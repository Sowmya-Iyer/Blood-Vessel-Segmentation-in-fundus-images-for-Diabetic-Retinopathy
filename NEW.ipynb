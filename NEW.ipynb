{
  "nbformat": 4,
  "nbformat_minor": 0,
  "metadata": {
    "colab": {
      "name": "NEW.ipynb",
      "provenance": [],
      "collapsed_sections": []
    },
    "kernelspec": {
      "name": "python3",
      "display_name": "Python 3"
    },
    "accelerator": "GPU"
  },
  "cells": [
    {
      "cell_type": "markdown",
      "metadata": {
        "id": "nUSSZQ7aBcxI"
      },
      "source": [
        "############################################\n",
        "\n",
        "Done by: Sowmya J Iyer\n",
        "\n",
        "Part of the code and model is taken from lee-zq/VesselSeg-Pytorch\n",
        "\n",
        "Modified the pre-processing and model for performance\n",
        "\n",
        "############################################"
      ]
    },
    {
      "cell_type": "code",
      "metadata": {
        "colab": {
          "base_uri": "https://localhost:8080/"
        },
        "id": "mnHrCrmLNSBQ",
        "outputId": "803e1247-f481-472d-e6ec-af846fffeeda"
      },
      "source": [
        "! python \"/content/drive/MyDrive/DR/Vessel Segmentation/LNet/prepare_dataset/drive.py\""
      ],
      "execution_count": null,
      "outputs": [
        {
          "output_type": "stream",
          "text": [
            "Number of train imgs: 20\n",
            "Number of test imgs: 20\n",
            "Finish!\n"
          ],
          "name": "stdout"
        }
      ]
    },
    {
      "cell_type": "code",
      "metadata": {
        "colab": {
          "base_uri": "https://localhost:8080/"
        },
        "id": "UFI-QxtCPNZ2",
        "outputId": "b1f67b0c-b944-4cd5-b07c-626f4859a893"
      },
      "source": [
        "! python \"/content/drive/MyDrive/DR/Vessel Segmentation/LNet/prepare_dataset/stare.py\""
      ],
      "execution_count": null,
      "outputs": [
        {
          "output_type": "stream",
          "text": [
            "Numbers of all imgs: 20\n",
            "Number of train imgs: 15\n",
            "Number of test imgs: 5\n",
            "Finish!\n"
          ],
          "name": "stdout"
        }
      ]
    },
    {
      "cell_type": "code",
      "metadata": {
        "colab": {
          "base_uri": "https://localhost:8080/"
        },
        "id": "QN4WOhW1QZP9",
        "outputId": "c2eb206f-d3ab-45a3-c71c-dd7d15d1336b"
      },
      "source": [
        "! python \"/content/drive/MyDrive/DR/Vessel Segmentation/LNet/prepare_dataset/chasedb1.py\""
      ],
      "execution_count": null,
      "outputs": [
        {
          "output_type": "stream",
          "text": [
            "Numbers of all imgs: 28\n",
            "Number of train imgs: 21\n",
            "Number of test imgs: 7\n",
            "Finish!\n"
          ],
          "name": "stdout"
        }
      ]
    },
    {
      "cell_type": "code",
      "metadata": {
        "colab": {
          "base_uri": "https://localhost:8080/"
        },
        "id": "tAr1xrpFeT7l",
        "outputId": "412877f2-ad84-4cbd-e6a3-f321713677a3"
      },
      "source": [
        "import torch\n",
        "torch.cuda.is_available()\n",
        "device = torch.device('cuda' if torch.cuda.is_available() else 'cpu')\n",
        "device"
      ],
      "execution_count": null,
      "outputs": [
        {
          "output_type": "execute_result",
          "data": {
            "text/plain": [
              "device(type='cuda')"
            ]
          },
          "metadata": {
            "tags": []
          },
          "execution_count": 2
        }
      ]
    },
    {
      "cell_type": "code",
      "metadata": {
        "colab": {
          "base_uri": "https://localhost:8080/"
        },
        "id": "2xrRrb8ig1Tl",
        "outputId": "2e8a2495-0111-41dd-8b99-efb05040f8ee"
      },
      "source": [
        "torch.zeros(1).cuda()"
      ],
      "execution_count": null,
      "outputs": [
        {
          "output_type": "execute_result",
          "data": {
            "text/plain": [
              "tensor([0.], device='cuda:0')"
            ]
          },
          "metadata": {
            "tags": []
          },
          "execution_count": 3
        }
      ]
    },
    {
      "cell_type": "code",
      "metadata": {
        "colab": {
          "base_uri": "https://localhost:8080/"
        },
        "id": "mvtsPb8OhnSe",
        "outputId": "2a061558-753c-4c85-9f7e-fd2b148db905"
      },
      "source": [
        "!nvidia-smi\n"
      ],
      "execution_count": null,
      "outputs": [
        {
          "output_type": "stream",
          "text": [
            "Mon Feb 15 21:09:29 2021       \n",
            "+-----------------------------------------------------------------------------+\n",
            "| NVIDIA-SMI 460.39       Driver Version: 460.32.03    CUDA Version: 11.2     |\n",
            "|-------------------------------+----------------------+----------------------+\n",
            "| GPU  Name        Persistence-M| Bus-Id        Disp.A | Volatile Uncorr. ECC |\n",
            "| Fan  Temp  Perf  Pwr:Usage/Cap|         Memory-Usage | GPU-Util  Compute M. |\n",
            "|                               |                      |               MIG M. |\n",
            "|===============================+======================+======================|\n",
            "|   0  Tesla T4            Off  | 00000000:00:04.0 Off |                    0 |\n",
            "| N/A   45C    P0    27W /  70W |    942MiB / 15109MiB |      0%      Default |\n",
            "|                               |                      |                  N/A |\n",
            "+-------------------------------+----------------------+----------------------+\n",
            "                                                                               \n",
            "+-----------------------------------------------------------------------------+\n",
            "| Processes:                                                                  |\n",
            "|  GPU   GI   CI        PID   Type   Process name                  GPU Memory |\n",
            "|        ID   ID                                                   Usage      |\n",
            "|=============================================================================|\n",
            "+-----------------------------------------------------------------------------+\n"
          ],
          "name": "stdout"
        }
      ]
    },
    {
      "cell_type": "code",
      "metadata": {
        "colab": {
          "base_uri": "https://localhost:8080/"
        },
        "id": "O8AtwxofQnhJ",
        "outputId": "93894a74-41cb-436e-a047-d8681de5c61b"
      },
      "source": [
        "! python \"/content/drive/MyDrive/DR/Vessel Segmentation/LNet/train.py\" --save UNet_vessel_seg --batch_size 64"
      ],
      "execution_count": null,
      "outputs": [
        {
          "output_type": "stream",
          "text": [
            "True\n",
            "1.7.0+cu101\n",
            "2021-02-16 06:19:27.863311: I tensorflow/stream_executor/platform/default/dso_loader.cc:49] Successfully opened dynamic library libcudart.so.10.1\n",
            "Config info -----\n",
            "outf: /content/drive/MyDrive/DR/Vessel Segmentation/Net/experiments\n",
            "save: UNet_vessel_seg\n",
            "train_data_path_list: /content/drive/MyDrive/DR/Vessel Segmentation/Net/prepare_dataset/data_path_list/DRIVE/train.txt\n",
            "test_data_path_list: /content/drive/MyDrive/DR/Vessel Segmentation/Net/prepare_dataset/data_path_list/DRIVE/test.txt\n",
            "train_patch_height: 48\n",
            "train_patch_width: 48\n",
            "N_patches: 100000\n",
            "inside_FOV: center\n",
            "val_ratio: 0.1\n",
            "in_channels: 1\n",
            "classes: 2\n",
            "N_epochs: 50\n",
            "batch_size: 64\n",
            "early_stop: 3\n",
            "lr: 0.0001\n",
            "val_on_test: True\n",
            "start_epoch: 1\n",
            "pre_trained: UNet_vessel_seg/best_model.pth\n",
            "test_patch_height: 96\n",
            "test_patch_width: 96\n",
            "stride_height: 16\n",
            "stride_width: 16\n",
            "cuda: True\n",
            "\u001b[0;33m================config infomation has been saved=================\u001b[0m\n",
            "The computing device used is:  GPU\n",
            "Total number of parameters: 879410\n",
            "Architecture of Model have saved in Tensorboard!\n",
            "==> Resuming from checkpoint..\n",
            "/usr/local/lib/python3.6/dist-packages/torch/nn/_reduction.py:44: UserWarning: size_average and reduce args will be deprecated, please use reduction='mean' instead.\n",
            "  warnings.warn(warning.format(ret))\n",
            " Model summary  : \n",
            "LadderNet(\n",
            "  (initial_block): Initial_LadderBlock(\n",
            "    (inconv): Conv2d(1, 16, kernel_size=(3, 3), stride=(1, 1), padding=(1, 1))\n",
            "    (down_module_list): ModuleList(\n",
            "      (0): BasicBlock(\n",
            "        (conv1): Conv2d(16, 16, kernel_size=(3, 3), stride=(1, 1), padding=(1, 1))\n",
            "        (relu): ReLU(inplace=True)\n",
            "        (drop): Dropout2d(p=0.25, inplace=False)\n",
            "      )\n",
            "      (1): BasicBlock(\n",
            "        (conv1): Conv2d(32, 32, kernel_size=(3, 3), stride=(1, 1), padding=(1, 1))\n",
            "        (relu): ReLU(inplace=True)\n",
            "        (drop): Dropout2d(p=0.25, inplace=False)\n",
            "      )\n",
            "      (2): BasicBlock(\n",
            "        (conv1): Conv2d(64, 64, kernel_size=(3, 3), stride=(1, 1), padding=(1, 1))\n",
            "        (relu): ReLU(inplace=True)\n",
            "        (drop): Dropout2d(p=0.25, inplace=False)\n",
            "      )\n",
            "    )\n",
            "    (down_conv_list): ModuleList(\n",
            "      (0): Conv2d(16, 32, kernel_size=(3, 3), stride=(2, 2), padding=(1, 1))\n",
            "      (1): Conv2d(32, 64, kernel_size=(3, 3), stride=(2, 2), padding=(1, 1))\n",
            "      (2): Conv2d(64, 128, kernel_size=(3, 3), stride=(2, 2), padding=(1, 1))\n",
            "    )\n",
            "    (bottom): BasicBlock(\n",
            "      (conv1): Conv2d(128, 128, kernel_size=(3, 3), stride=(1, 1), padding=(1, 1))\n",
            "      (relu): ReLU(inplace=True)\n",
            "      (drop): Dropout2d(p=0.25, inplace=False)\n",
            "    )\n",
            "    (up_conv_list): ModuleList(\n",
            "      (0): ConvTranspose2d(128, 64, kernel_size=(3, 3), stride=(2, 2), padding=(1, 1), output_padding=(1, 1))\n",
            "      (1): ConvTranspose2d(64, 32, kernel_size=(3, 3), stride=(2, 2), padding=(1, 1), output_padding=(1, 1))\n",
            "      (2): ConvTranspose2d(32, 16, kernel_size=(3, 3), stride=(2, 2), padding=(1, 1), output_padding=(1, 1))\n",
            "    )\n",
            "    (up_dense_list): ModuleList(\n",
            "      (0): BasicBlock(\n",
            "        (conv1): Conv2d(64, 64, kernel_size=(3, 3), stride=(1, 1), padding=(1, 1))\n",
            "        (relu): ReLU(inplace=True)\n",
            "        (drop): Dropout2d(p=0.25, inplace=False)\n",
            "      )\n",
            "      (1): BasicBlock(\n",
            "        (conv1): Conv2d(32, 32, kernel_size=(3, 3), stride=(1, 1), padding=(1, 1))\n",
            "        (relu): ReLU(inplace=True)\n",
            "        (drop): Dropout2d(p=0.25, inplace=False)\n",
            "      )\n",
            "      (2): BasicBlock(\n",
            "        (conv1): Conv2d(16, 16, kernel_size=(3, 3), stride=(1, 1), padding=(1, 1))\n",
            "        (relu): ReLU(inplace=True)\n",
            "        (drop): Dropout2d(p=0.25, inplace=False)\n",
            "      )\n",
            "    )\n",
            "  )\n",
            "  (final_block): Final_LadderBlock(\n",
            "    (block): LadderBlock(\n",
            "      (inconv): BasicBlock(\n",
            "        (conv1): Conv2d(16, 16, kernel_size=(3, 3), stride=(1, 1), padding=(1, 1))\n",
            "        (relu): ReLU(inplace=True)\n",
            "        (drop): Dropout2d(p=0.25, inplace=False)\n",
            "      )\n",
            "      (down_module_list): ModuleList(\n",
            "        (0): BasicBlock(\n",
            "          (conv1): Conv2d(16, 16, kernel_size=(3, 3), stride=(1, 1), padding=(1, 1))\n",
            "          (relu): ReLU(inplace=True)\n",
            "          (drop): Dropout2d(p=0.25, inplace=False)\n",
            "        )\n",
            "        (1): BasicBlock(\n",
            "          (conv1): Conv2d(32, 32, kernel_size=(3, 3), stride=(1, 1), padding=(1, 1))\n",
            "          (relu): ReLU(inplace=True)\n",
            "          (drop): Dropout2d(p=0.25, inplace=False)\n",
            "        )\n",
            "        (2): BasicBlock(\n",
            "          (conv1): Conv2d(64, 64, kernel_size=(3, 3), stride=(1, 1), padding=(1, 1))\n",
            "          (relu): ReLU(inplace=True)\n",
            "          (drop): Dropout2d(p=0.25, inplace=False)\n",
            "        )\n",
            "      )\n",
            "      (down_conv_list): ModuleList(\n",
            "        (0): Conv2d(16, 32, kernel_size=(3, 3), stride=(2, 2), padding=(1, 1))\n",
            "        (1): Conv2d(32, 64, kernel_size=(3, 3), stride=(2, 2), padding=(1, 1))\n",
            "        (2): Conv2d(64, 128, kernel_size=(3, 3), stride=(2, 2), padding=(1, 1))\n",
            "      )\n",
            "      (bottom): BasicBlock(\n",
            "        (conv1): Conv2d(128, 128, kernel_size=(3, 3), stride=(1, 1), padding=(1, 1))\n",
            "        (relu): ReLU(inplace=True)\n",
            "        (drop): Dropout2d(p=0.25, inplace=False)\n",
            "      )\n",
            "      (up_conv_list): ModuleList(\n",
            "        (0): ConvTranspose2d(128, 64, kernel_size=(3, 3), stride=(2, 2), padding=(1, 1), output_padding=(1, 1))\n",
            "        (1): ConvTranspose2d(64, 32, kernel_size=(3, 3), stride=(2, 2), padding=(1, 1), output_padding=(1, 1))\n",
            "        (2): ConvTranspose2d(32, 16, kernel_size=(3, 3), stride=(2, 2), padding=(1, 1), output_padding=(1, 1))\n",
            "      )\n",
            "      (up_dense_list): ModuleList(\n",
            "        (0): BasicBlock(\n",
            "          (conv1): Conv2d(64, 64, kernel_size=(3, 3), stride=(1, 1), padding=(1, 1))\n",
            "          (relu): ReLU(inplace=True)\n",
            "          (drop): Dropout2d(p=0.25, inplace=False)\n",
            "        )\n",
            "        (1): BasicBlock(\n",
            "          (conv1): Conv2d(32, 32, kernel_size=(3, 3), stride=(1, 1), padding=(1, 1))\n",
            "          (relu): ReLU(inplace=True)\n",
            "          (drop): Dropout2d(p=0.25, inplace=False)\n",
            "        )\n",
            "        (2): BasicBlock(\n",
            "          (conv1): Conv2d(16, 16, kernel_size=(3, 3), stride=(1, 1), padding=(1, 1))\n",
            "          (relu): ReLU(inplace=True)\n",
            "          (drop): Dropout2d(p=0.25, inplace=False)\n",
            "        )\n",
            "      )\n",
            "    )\n",
            "  )\n",
            "  (final): Conv2d(16, 2, kernel_size=(1, 1), stride=(1, 1))\n",
            ")\n",
            "\u001b[0;33mload data from /content/drive/MyDrive/DR/Vessel Segmentation/Net/prepare_dataset/data_path_list/DRIVE/train.txt \u001b[0m\n",
            "ori data shape < ori_imgs:(20, 3, 584, 565) GTs:(20, 1, 584, 565) FOVs:(20, 1, 584, 565)\n",
            "imgs pixel range 0-255: \n",
            "GTs pixel range 0-255: \n",
            "FOVs pixel range 0-255: \n",
            "==================data have loaded======================\n",
            "\n",
            "Train images shape: (20, 1, 584, 565), vaule range (0.0 - 1.0):\n",
            "patches per image: 5000   Total number of patches: 100000\n",
            "tcmalloc: large alloc 1843200000 bytes == 0xa8616000 @  0x7f8293f5a1e7 0x7f82445a141e 0x7f82445f1c2b 0x7f82445f230f 0x7f82446940a3 0x50a4a5 0x50beb4 0x507be4 0x509900 0x50a2fd 0x50beb4 0x507be4 0x509900 0x50a2fd 0x50cc96 0x5095c8 0x50a2fd 0x50beb4 0x5095c8 0x50a2fd 0x50beb4 0x507be4 0x50ad03 0x634e72 0x634f27 0x6386df 0x639281 0x4b0dc0 0x7f8293b57bf7 0x5b259a\n",
            "train patches shape: (100000, 1, 48, 48), value range (0.0 - 1.0)\n",
            "tcmalloc: large alloc 1658880000 bytes == 0x127abc000 @  0x7f8293f5a1e7 0x7f82445a141e 0x7f82445f1c2b 0x7f82445f1cc8 0x7f8244684349 0x7f8244686a55 0x50c19e 0x5095c8 0x50a2fd 0x50beb4 0x5095c8 0x50a2fd 0x50beb4 0x507be4 0x50ad03 0x634e72 0x634f27 0x6386df 0x639281 0x4b0dc0 0x7f8293b57bf7 0x5b259a\n",
            "\u001b[0;32m===============Validation on Testset!!!===============\u001b[0m\n",
            "\u001b[0;33mload data from /content/drive/MyDrive/DR/Vessel Segmentation/Net/prepare_dataset/data_path_list/DRIVE/test.txt \u001b[0m\n",
            "ori data shape < ori_imgs:(20, 3, 584, 565) GTs:(20, 1, 584, 565) FOVs:(20, 1, 584, 565)\n",
            "imgs pixel range 0-255: \n",
            "GTs pixel range 0-255: \n",
            "FOVs pixel range 0-255: \n",
            "==================data have loaded======================\n",
            "\n",
            "the side H is not compatible with the selected stride of 16\n",
            "(img_h - patch_h) MOD stride_h: 8\n",
            "So the H dim will be padded with additional 8 pixels\n",
            "the side W is not compatible with the selected stride of 16\n",
            "(img_w - patch_w) MOD stride_w: 5\n",
            "So the W dim will be padded with additional 11 pixels\n",
            "new padded images shape: (20, 1, 592, 576)\n",
            "\n",
            "Test images shape: (20, 1, 592, 576), vaule range (0.0 - 1.0):\n",
            "Number of patches on h : 32\n",
            "Number of patches on w : 31\n",
            "number of patches per image: 992, totally for testset: 19840\n",
            "tcmalloc: large alloc 1462763520 bytes == 0xa69e6000 @  0x7f8293f5a1e7 0x7f82445a141e 0x7f82445f1c2b 0x7f82445f230f 0x7f82446940a3 0x50a4a5 0x50beb4 0x5095c8 0x50a2fd 0x50beb4 0x507be4 0x509900 0x50a2fd 0x50cc96 0x508cd5 0x594a01 0x549e8f 0x5515c1 0x5a9dac 0x50a433 0x50beb4 0x5095c8 0x50a2fd 0x50beb4 0x507be4 0x50ad03 0x634e72 0x634f27 0x6386df 0x639281 0x4b0dc0\n",
            "test patches shape: (19840, 1, 96, 96), value range (0.0 - 1.0)\n",
            "\n",
            "EPOCH: 0/50 --(learn_rate:0.000100) | Time: Tue Feb 16 06:19:38 2021\n",
            "100% 1407/1407 [01:57<00:00, 11.96it/s]\n",
            "100% 310/310 [00:20<00:00, 15.14it/s]\n",
            "There are 20 images in Testset\n",
            "OrderedDict([('epoch', 0), ('train_loss', 0.125312), ('val_auc_roc', 0.977679), ('val_f1', 0.816315), ('val_acc', 0.954579), ('SE', 0.792917), ('SP', 0.978158)])\n",
            "\u001b[0;33mSaving best model!\u001b[0m\n",
            "Best performance at Epoch: 0 | AUC_roc: 0.977679\n",
            "\n",
            "EPOCH: 1/50 --(learn_rate:0.000100) | Time: Tue Feb 16 06:22:36 2021\n",
            "100% 1407/1407 [01:59<00:00, 11.77it/s]\n",
            "100% 310/310 [00:20<00:00, 15.01it/s]\n",
            "There are 20 images in Testset\n",
            "OrderedDict([('epoch', 1), ('train_loss', 0.122715), ('val_auc_roc', 0.978394), ('val_f1', 0.816967), ('val_acc', 0.955324), ('SE', 0.783317), ('SP', 0.980411)])\n",
            "\u001b[0;33mSaving best model!\u001b[0m\n",
            "Best performance at Epoch: 1 | AUC_roc: 0.978394\n",
            "\n",
            "EPOCH: 2/50 --(learn_rate:0.000100) | Time: Tue Feb 16 06:25:37 2021\n",
            "100% 1407/1407 [01:59<00:00, 11.74it/s]\n",
            "100% 310/310 [00:20<00:00, 15.05it/s]\n",
            "There are 20 images in Testset\n",
            "OrderedDict([('epoch', 2), ('train_loss', 0.12065), ('val_auc_roc', 0.97864), ('val_f1', 0.817655), ('val_acc', 0.955505), ('SE', 0.783737), ('SP', 0.980558)])\n",
            "\u001b[0;33mSaving best model!\u001b[0m\n",
            "Best performance at Epoch: 2 | AUC_roc: 0.97864\n",
            "\n",
            "EPOCH: 3/50 --(learn_rate:0.000099) | Time: Tue Feb 16 06:28:37 2021\n",
            "100% 1407/1407 [01:59<00:00, 11.78it/s]\n",
            "100% 310/310 [00:20<00:00, 14.96it/s]\n",
            "There are 20 images in Testset\n",
            "OrderedDict([('epoch', 3), ('train_loss', 0.119086), ('val_auc_roc', 0.979241), ('val_f1', 0.820542), ('val_acc', 0.955672), ('SE', 0.796167), ('SP', 0.978936)])\n",
            "\u001b[0;33mSaving best model!\u001b[0m\n",
            "Best performance at Epoch: 3 | AUC_roc: 0.979241\n",
            "\n",
            "EPOCH: 4/50 --(learn_rate:0.000098) | Time: Tue Feb 16 06:31:37 2021\n",
            "100% 1407/1407 [01:59<00:00, 11.77it/s]\n",
            "100% 310/310 [00:20<00:00, 15.03it/s]\n",
            "There are 20 images in Testset\n",
            "OrderedDict([('epoch', 4), ('train_loss', 0.117645), ('val_auc_roc', 0.979713), ('val_f1', 0.823767), ('val_acc', 0.955488), ('SE', 0.817301), ('SP', 0.975643)])\n",
            "\u001b[0;33mSaving best model!\u001b[0m\n",
            "Best performance at Epoch: 4 | AUC_roc: 0.979713\n",
            "\n",
            "EPOCH: 5/50 --(learn_rate:0.000098) | Time: Tue Feb 16 06:34:37 2021\n",
            "100% 1407/1407 [01:59<00:00, 11.76it/s]\n",
            "100% 310/310 [00:20<00:00, 15.00it/s]\n",
            "There are 20 images in Testset\n",
            "OrderedDict([('epoch', 5), ('train_loss', 0.116572), ('val_auc_roc', 0.979962), ('val_f1', 0.821736), ('val_acc', 0.956303), ('SE', 0.791223), ('SP', 0.980381)])\n",
            "\u001b[0;33mSaving best model!\u001b[0m\n",
            "Best performance at Epoch: 5 | AUC_roc: 0.979962\n",
            "\n",
            "EPOCH: 6/50 --(learn_rate:0.000096) | Time: Tue Feb 16 06:37:38 2021\n",
            "100% 1407/1407 [01:59<00:00, 11.79it/s]\n",
            "100% 310/310 [00:20<00:00, 15.00it/s]\n",
            "There are 20 images in Testset\n",
            "OrderedDict([('epoch', 6), ('train_loss', 0.115547), ('val_auc_roc', 0.980054), ('val_f1', 0.823024), ('val_acc', 0.956213), ('SE', 0.799877), ('SP', 0.979015)])\n",
            "\u001b[0;33mSaving best model!\u001b[0m\n",
            "Best performance at Epoch: 6 | AUC_roc: 0.980054\n",
            "\n",
            "EPOCH: 7/50 --(learn_rate:0.000095) | Time: Tue Feb 16 06:40:37 2021\n",
            "100% 1407/1407 [01:59<00:00, 11.81it/s]\n",
            "100% 310/310 [00:20<00:00, 14.99it/s]\n",
            "There are 20 images in Testset\n",
            "OrderedDict([('epoch', 7), ('train_loss', 0.114614), ('val_auc_roc', 0.980278), ('val_f1', 0.824173), ('val_acc', 0.956401), ('SE', 0.802773), ('SP', 0.978808)])\n",
            "\u001b[0;33mSaving best model!\u001b[0m\n",
            "Best performance at Epoch: 7 | AUC_roc: 0.980278\n",
            "\n",
            "EPOCH: 8/50 --(learn_rate:0.000094) | Time: Tue Feb 16 06:43:37 2021\n",
            "100% 1407/1407 [01:59<00:00, 11.80it/s]\n",
            "100% 310/310 [00:20<00:00, 14.99it/s]\n",
            "There are 20 images in Testset\n",
            "OrderedDict([('epoch', 8), ('train_loss', 0.113849), ('val_auc_roc', 0.980281), ('val_f1', 0.82374), ('val_acc', 0.956441), ('SE', 0.79965), ('SP', 0.979309)])\n",
            "\u001b[0;33mSaving best model!\u001b[0m\n",
            "Best performance at Epoch: 8 | AUC_roc: 0.980281\n",
            "\n",
            "EPOCH: 9/50 --(learn_rate:0.000092) | Time: Tue Feb 16 06:46:36 2021\n",
            "100% 1407/1407 [01:59<00:00, 11.79it/s]\n",
            "100% 310/310 [00:20<00:00, 15.00it/s]\n",
            "There are 20 images in Testset\n",
            "OrderedDict([('epoch', 9), ('train_loss', 0.113033), ('val_auc_roc', 0.980562), ('val_f1', 0.823676), ('val_acc', 0.956587), ('SE', 0.796624), ('SP', 0.979918)])\n",
            "\u001b[0;33mSaving best model!\u001b[0m\n",
            "Best performance at Epoch: 9 | AUC_roc: 0.980562\n",
            "\n",
            "EPOCH: 10/50 --(learn_rate:0.000090) | Time: Tue Feb 16 06:49:37 2021\n",
            "100% 1407/1407 [01:59<00:00, 11.78it/s]\n",
            "100% 310/310 [00:20<00:00, 14.99it/s]\n",
            "There are 20 images in Testset\n",
            "OrderedDict([('epoch', 10), ('train_loss', 0.112425), ('val_auc_roc', 0.980613), ('val_f1', 0.824707), ('val_acc', 0.95657), ('SE', 0.80261), ('SP', 0.979026)])\n",
            "\u001b[0;33mSaving best model!\u001b[0m\n",
            "Best performance at Epoch: 10 | AUC_roc: 0.980613\n",
            "\n",
            "EPOCH: 11/50 --(learn_rate:0.000089) | Time: Tue Feb 16 06:52:36 2021\n",
            "100% 1407/1407 [01:59<00:00, 11.80it/s]\n",
            "100% 310/310 [00:20<00:00, 15.01it/s]\n",
            "There are 20 images in Testset\n",
            "OrderedDict([('epoch', 11), ('train_loss', 0.111841), ('val_auc_roc', 0.980564), ('val_f1', 0.824606), ('val_acc', 0.956524), ('SE', 0.802906), ('SP', 0.97893)])\n",
            "Best performance at Epoch: 10 | AUC_roc: 0.980613\n",
            "\n",
            "EPOCH: 12/50 --(learn_rate:0.000086) | Time: Tue Feb 16 06:55:36 2021\n",
            "100% 1407/1407 [01:59<00:00, 11.80it/s]\n",
            "100% 310/310 [00:20<00:00, 14.99it/s]\n",
            "There are 20 images in Testset\n",
            "OrderedDict([('epoch', 12), ('train_loss', 0.111292), ('val_auc_roc', 0.980812), ('val_f1', 0.824608), ('val_acc', 0.956778), ('SE', 0.798236), ('SP', 0.979901)])\n",
            "\u001b[0;33mSaving best model!\u001b[0m\n",
            "Best performance at Epoch: 12 | AUC_roc: 0.980812\n",
            "\n",
            "EPOCH: 13/50 --(learn_rate:0.000084) | Time: Tue Feb 16 06:58:35 2021\n",
            "100% 1407/1407 [01:59<00:00, 11.79it/s]\n",
            "100% 310/310 [00:20<00:00, 15.00it/s]\n",
            "There are 20 images in Testset\n",
            "OrderedDict([('epoch', 13), ('train_loss', 0.110787), ('val_auc_roc', 0.980995), ('val_f1', 0.825776), ('val_acc', 0.95687), ('SE', 0.803), ('SP', 0.979313)])\n",
            "\u001b[0;33mSaving best model!\u001b[0m\n",
            "Best performance at Epoch: 13 | AUC_roc: 0.980995\n",
            "\n",
            "EPOCH: 14/50 --(learn_rate:0.000082) | Time: Tue Feb 16 07:01:36 2021\n",
            "100% 1407/1407 [01:59<00:00, 11.78it/s]\n",
            "100% 310/310 [00:20<00:00, 15.01it/s]\n",
            "There are 20 images in Testset\n",
            "OrderedDict([('epoch', 14), ('train_loss', 0.110266), ('val_auc_roc', 0.980958), ('val_f1', 0.826575), ('val_acc', 0.956755), ('SE', 0.80963), ('SP', 0.978214)])\n",
            "Best performance at Epoch: 13 | AUC_roc: 0.980995\n",
            "\n",
            "EPOCH: 15/50 --(learn_rate:0.000079) | Time: Tue Feb 16 07:04:35 2021\n",
            "100% 1407/1407 [01:59<00:00, 11.79it/s]\n",
            "100% 310/310 [00:20<00:00, 15.02it/s]\n",
            "There are 20 images in Testset\n",
            "OrderedDict([('epoch', 15), ('train_loss', 0.109935), ('val_auc_roc', 0.981093), ('val_f1', 0.825956), ('val_acc', 0.956965), ('SE', 0.802248), ('SP', 0.97953)])\n",
            "\u001b[0;33mSaving best model!\u001b[0m\n",
            "Best performance at Epoch: 15 | AUC_roc: 0.981093\n",
            "\n",
            "EPOCH: 16/50 --(learn_rate:0.000077) | Time: Tue Feb 16 07:07:35 2021\n",
            "100% 1407/1407 [01:58<00:00, 11.82it/s]\n",
            "100% 310/310 [00:20<00:00, 15.01it/s]\n",
            "There are 20 images in Testset\n",
            "OrderedDict([('epoch', 16), ('train_loss', 0.10947), ('val_auc_roc', 0.981), ('val_f1', 0.825024), ('val_acc', 0.956997), ('SE', 0.796466), ('SP', 0.980411)])\n",
            "Best performance at Epoch: 15 | AUC_roc: 0.981093\n",
            "\n",
            "EPOCH: 17/50 --(learn_rate:0.000074) | Time: Tue Feb 16 07:10:34 2021\n",
            "100% 1407/1407 [01:59<00:00, 11.80it/s]\n",
            "100% 310/310 [00:20<00:00, 14.99it/s]\n",
            "There are 20 images in Testset\n",
            "OrderedDict([('epoch', 17), ('train_loss', 0.109056), ('val_auc_roc', 0.9812), ('val_f1', 0.826139), ('val_acc', 0.956952), ('SE', 0.803512), ('SP', 0.979331)])\n",
            "\u001b[0;33mSaving best model!\u001b[0m\n",
            "Best performance at Epoch: 17 | AUC_roc: 0.9812\n",
            "\n",
            "EPOCH: 18/50 --(learn_rate:0.000071) | Time: Tue Feb 16 07:13:34 2021\n",
            "100% 1407/1407 [01:59<00:00, 11.82it/s]\n",
            "100% 310/310 [00:20<00:00, 15.06it/s]\n",
            "There are 20 images in Testset\n",
            "OrderedDict([('epoch', 18), ('train_loss', 0.108771), ('val_auc_roc', 0.981059), ('val_f1', 0.826091), ('val_acc', 0.957055), ('SE', 0.801308), ('SP', 0.979771)])\n",
            "Best performance at Epoch: 17 | AUC_roc: 0.9812\n",
            "\n",
            "EPOCH: 19/50 --(learn_rate:0.000068) | Time: Tue Feb 16 07:16:33 2021\n",
            "100% 1407/1407 [01:59<00:00, 11.79it/s]\n",
            "100% 310/310 [00:20<00:00, 15.00it/s]\n",
            "There are 20 images in Testset\n",
            "OrderedDict([('epoch', 19), ('train_loss', 0.108427), ('val_auc_roc', 0.981204), ('val_f1', 0.827335), ('val_acc', 0.95697), ('SE', 0.809907), ('SP', 0.978419)])\n",
            "\u001b[0;33mSaving best model!\u001b[0m\n",
            "Best performance at Epoch: 19 | AUC_roc: 0.981204\n",
            "\n",
            "EPOCH: 20/50 --(learn_rate:0.000065) | Time: Tue Feb 16 07:19:33 2021\n",
            "100% 1407/1407 [01:59<00:00, 11.79it/s]\n",
            "100% 310/310 [00:20<00:00, 15.01it/s]\n",
            "There are 20 images in Testset\n",
            "OrderedDict([('epoch', 20), ('train_loss', 0.108075), ('val_auc_roc', 0.981065), ('val_f1', 0.826878), ('val_acc', 0.956942), ('SE', 0.807842), ('SP', 0.978689)])\n",
            "Best performance at Epoch: 19 | AUC_roc: 0.981204\n",
            "\n",
            "EPOCH: 21/50 --(learn_rate:0.000062) | Time: Tue Feb 16 07:22:33 2021\n",
            "100% 1407/1407 [01:59<00:00, 11.81it/s]\n",
            "100% 310/310 [00:20<00:00, 15.03it/s]\n",
            "There are 20 images in Testset\n",
            "OrderedDict([('epoch', 21), ('train_loss', 0.107787), ('val_auc_roc', 0.981228), ('val_f1', 0.825986), ('val_acc', 0.957021), ('SE', 0.80136), ('SP', 0.979724)])\n",
            "\u001b[0;33mSaving best model!\u001b[0m\n",
            "Best performance at Epoch: 21 | AUC_roc: 0.981228\n",
            "\n",
            "EPOCH: 22/50 --(learn_rate:0.000059) | Time: Tue Feb 16 07:25:32 2021\n",
            "100% 1407/1407 [01:59<00:00, 11.78it/s]\n",
            "100% 310/310 [00:20<00:00, 15.03it/s]\n",
            "There are 20 images in Testset\n",
            "OrderedDict([('epoch', 22), ('train_loss', 0.107427), ('val_auc_roc', 0.981297), ('val_f1', 0.826557), ('val_acc', 0.957246), ('SE', 0.800351), ('SP', 0.980129)])\n",
            "\u001b[0;33mSaving best model!\u001b[0m\n",
            "Best performance at Epoch: 22 | AUC_roc: 0.981297\n",
            "\n",
            "EPOCH: 23/50 --(learn_rate:0.000056) | Time: Tue Feb 16 07:28:33 2021\n",
            "100% 1407/1407 [01:59<00:00, 11.75it/s]\n",
            "100% 310/310 [00:20<00:00, 14.98it/s]\n",
            "There are 20 images in Testset\n",
            "OrderedDict([('epoch', 23), ('train_loss', 0.107217), ('val_auc_roc', 0.980927), ('val_f1', 0.825871), ('val_acc', 0.956955), ('SE', 0.801958), ('SP', 0.979561)])\n",
            "Best performance at Epoch: 22 | AUC_roc: 0.981297\n",
            "\n",
            "EPOCH: 24/50 --(learn_rate:0.000053) | Time: Tue Feb 16 07:31:34 2021\n",
            "100% 1407/1407 [01:59<00:00, 11.75it/s]\n",
            "100% 310/310 [00:20<00:00, 15.00it/s]\n",
            "There are 20 images in Testset\n",
            "OrderedDict([('epoch', 24), ('train_loss', 0.106966), ('val_auc_roc', 0.980955), ('val_f1', 0.827072), ('val_acc', 0.956787), ('SE', 0.811853), ('SP', 0.977926)])\n",
            "Best performance at Epoch: 22 | AUC_roc: 0.981297\n",
            "\n",
            "EPOCH: 25/50 --(learn_rate:0.000050) | Time: Tue Feb 16 07:34:35 2021\n",
            "100% 1407/1407 [01:59<00:00, 11.75it/s]\n",
            "100% 310/310 [00:20<00:00, 15.03it/s]\n",
            "There are 20 images in Testset\n",
            "OrderedDict([('epoch', 25), ('train_loss', 0.106759), ('val_auc_roc', 0.981075), ('val_f1', 0.828667), ('val_acc', 0.956981), ('SE', 0.817308), ('SP', 0.977353)])\n",
            "Best performance at Epoch: 22 | AUC_roc: 0.981297\n",
            "=> early stopping\n"
          ],
          "name": "stdout"
        }
      ]
    },
    {
      "cell_type": "code",
      "metadata": {
        "colab": {
          "base_uri": "https://localhost:8080/"
        },
        "id": "61HDG-E6ONSQ",
        "outputId": "5b1a6088-3500-4047-d3eb-8eb391c651b7"
      },
      "source": [
        "! python \"/content/drive/MyDrive/DR/Vessel Segmentation/LNet/test.py\" --savse UNet_vessel_seg  "
      ],
      "execution_count": null,
      "outputs": [
        {
          "output_type": "stream",
          "text": [
            "==> Loading checkpoint...\n",
            "\u001b[0;33mload data from /content/drive/MyDrive/DR/Vessel Segmentation/Net/prepare_dataset/data_path_list/DRIVE/test.txt \u001b[0m\n",
            "ori data shape < ori_imgs:(20, 3, 584, 565) GTs:(20, 1, 584, 565) FOVs:(20, 1, 584, 565)\n",
            "imgs pixel range 0-255: \n",
            "GTs pixel range 0-255: \n",
            "FOVs pixel range 0-255: \n",
            "==================data have loaded======================\n",
            "\n",
            "the side H is not compatible with the selected stride of 16\n",
            "(img_h - patch_h) MOD stride_h: 8\n",
            "So the H dim will be padded with additional 8 pixels\n",
            "the side W is not compatible with the selected stride of 16\n",
            "(img_w - patch_w) MOD stride_w: 5\n",
            "So the W dim will be padded with additional 11 pixels\n",
            "new padded images shape: (20, 1, 592, 576)\n",
            "\n",
            "Test images shape: (20, 1, 592, 576), vaule range (0.0 - 1.0):\n",
            "Number of patches on h : 32\n",
            "Number of patches on w : 31\n",
            "number of patches per image: 992, totally for testset: 19840\n",
            "tcmalloc: large alloc 1462763520 bytes == 0x98a78000 @  0x7fb0385481e7 0x7fb0348a241e 0x7fb0348f2c2b 0x7fb0348f330f 0x7fb0349950a3 0x50a4a5 0x50beb4 0x5095c8 0x50a2fd 0x50beb4 0x507be4 0x509900 0x50a2fd 0x50cc96 0x508cd5 0x594a01 0x549e8f 0x5515c1 0x5a9dac 0x50a433 0x50beb4 0x507be4 0x50ad03 0x634e72 0x634f27 0x6386df 0x639281 0x4b0dc0 0x7fb038145bf7 0x5b259a\n",
            "test patches shape: (19840, 1, 96, 96), value range (0.0 - 1.0)\n",
            "100% 310/310 [00:19<00:00, 15.99it/s]\n",
            "There are 20 images in Testset\n",
            "OrderedDict([('AUC_ROC', 0.981297), ('AUC_PR', 0.915567), ('f1-score', 0.826557), ('Acc', 0.957246), ('SE', 0.800351), ('SP', 0.980129), ('precision', 0.854538)])\n"
          ],
          "name": "stdout"
        }
      ]
    },
    {
      "cell_type": "code",
      "metadata": {
        "colab": {
          "base_uri": "https://localhost:8080/"
        },
        "id": "W7JrvgYYp6xZ",
        "outputId": "6e1bb812-5f0b-4005-d5bc-5e5dcc36ac27"
      },
      "source": [
        "!tensorboard --logdir =\"/content/runs\""
      ],
      "execution_count": null,
      "outputs": [
        {
          "output_type": "stream",
          "text": [
            "2021-02-16 08:10:38.966532: I tensorflow/stream_executor/platform/default/dso_loader.cc:49] Successfully opened dynamic library libcudart.so.10.1\n",
            "Serving TensorBoard on localhost; to expose to the network, use a proxy or pass --bind_all\n",
            "TensorBoard 2.4.1 at http://localhost:6006/ (Press CTRL+C to quit)\n",
            "Error in atexit._run_exitfuncs:\n",
            "Traceback (most recent call last):\n",
            "  File \"/usr/lib/python3.6/os.py\", line 220, in makedirs\n",
            "    mkdir(name, mode)\n",
            "FileExistsError: [Errno 17] File exists: '/tmp/.tensorboard-info'\n",
            "\n",
            "During handling of the above exception, another exception occurred:\n",
            "\n",
            "Traceback (most recent call last):\n",
            "  File \"/usr/local/lib/python3.6/dist-packages/tensorboard/manager.py\", line 273, in remove_info_file\n",
            "    os.unlink(_get_info_file_path())\n",
            "  File \"/usr/local/lib/python3.6/dist-packages/tensorboard/manager.py\", line 246, in _get_info_file_path\n",
            "    return os.path.join(_get_info_dir(), \"pid-%d.info\" % os.getpid())\n",
            "  File \"/usr/local/lib/python3.6/dist-packages/tensorboard/manager.py\", line 229, in _get_info_dir\n",
            "    os.makedirs(path)\n",
            "  File \"/usr/lib/python3.6/os.py\", line 220, in makedirs\n",
            "    mkdir(name, mode)\n",
            "KeyboardInterrupt\n"
          ],
          "name": "stdout"
        }
      ]
    },
    {
      "cell_type": "code",
      "metadata": {
        "colab": {
          "base_uri": "https://localhost:8080/",
          "height": 229
        },
        "id": "frYryioE4tpw",
        "outputId": "97a6e0a2-627e-44a4-a2b3-00b5881fd736"
      },
      "source": [
        ""
      ],
      "execution_count": null,
      "outputs": [
        {
          "output_type": "error",
          "ename": "AttributeError",
          "evalue": "ignored",
          "traceback": [
            "\u001b[0;31m---------------------------------------------------------------------------\u001b[0m",
            "\u001b[0;31mAttributeError\u001b[0m                            Traceback (most recent call last)",
            "\u001b[0;32m<ipython-input-36-731bca7beb53>\u001b[0m in \u001b[0;36m<module>\u001b[0;34m()\u001b[0m\n\u001b[1;32m      5\u001b[0m     \u001b[0mparams\u001b[0m \u001b[0;34m=\u001b[0m \u001b[0mpickle\u001b[0m\u001b[0;34m.\u001b[0m\u001b[0mload\u001b[0m\u001b[0;34m(\u001b[0m\u001b[0mf\u001b[0m\u001b[0;34m)\u001b[0m\u001b[0;34m\u001b[0m\u001b[0;34m\u001b[0m\u001b[0m\n\u001b[1;32m      6\u001b[0m \u001b[0;31m# convert numpy arrays to torch Variables\u001b[0m\u001b[0;34m\u001b[0m\u001b[0;34m\u001b[0m\u001b[0;34m\u001b[0m\u001b[0m\n\u001b[0;32m----> 7\u001b[0;31m \u001b[0;32mfor\u001b[0m \u001b[0mk\u001b[0m\u001b[0;34m,\u001b[0m\u001b[0mv\u001b[0m \u001b[0;32min\u001b[0m \u001b[0msorted\u001b[0m\u001b[0;34m(\u001b[0m\u001b[0mparams\u001b[0m\u001b[0;34m.\u001b[0m\u001b[0mitems\u001b[0m\u001b[0;34m(\u001b[0m\u001b[0;34m)\u001b[0m\u001b[0;34m)\u001b[0m\u001b[0;34m:\u001b[0m\u001b[0;34m\u001b[0m\u001b[0;34m\u001b[0m\u001b[0m\n\u001b[0m\u001b[1;32m      8\u001b[0m     \u001b[0mprint\u001b[0m\u001b[0;34m(\u001b[0m\u001b[0mk\u001b[0m\u001b[0;34m,\u001b[0m \u001b[0mv\u001b[0m\u001b[0;34m.\u001b[0m\u001b[0mshape\u001b[0m\u001b[0;34m)\u001b[0m\u001b[0;34m\u001b[0m\u001b[0;34m\u001b[0m\u001b[0m\n\u001b[1;32m      9\u001b[0m     \u001b[0mparams\u001b[0m\u001b[0;34m[\u001b[0m\u001b[0mk\u001b[0m\u001b[0;34m]\u001b[0m \u001b[0;34m=\u001b[0m \u001b[0mVariable\u001b[0m\u001b[0;34m(\u001b[0m\u001b[0mtorch\u001b[0m\u001b[0;34m.\u001b[0m\u001b[0mfrom_numpy\u001b[0m\u001b[0;34m(\u001b[0m\u001b[0mv\u001b[0m\u001b[0;34m)\u001b[0m\u001b[0;34m,\u001b[0m \u001b[0mrequires_grad\u001b[0m\u001b[0;34m=\u001b[0m\u001b[0;32mTrue\u001b[0m\u001b[0;34m)\u001b[0m\u001b[0;34m\u001b[0m\u001b[0;34m\u001b[0m\u001b[0m\n",
            "\u001b[0;31mAttributeError\u001b[0m: 'Namespace' object has no attribute 'items'"
          ]
        }
      ]
    }
  ]
}